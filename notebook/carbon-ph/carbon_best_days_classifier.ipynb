{
 "cells": [
  {
   "cell_type": "markdown",
   "id": "0f2d7a8d",
   "metadata": {},
   "source": [
    "# Carbon Best Days Classifier"
   ]
  },
  {
   "cell_type": "code",
   "execution_count": null,
   "id": "ca4cf0ff",
   "metadata": {},
   "outputs": [],
   "source": [
    "\n",
    "import pandas as pd\n",
    "from sklearn.ensemble import RandomForestClassifier\n",
    "from sklearn.model_selection import train_test_split\n",
    "import pickle\n",
    "\n",
    "df = pd.read_excel(\"combined_carbon_data.xlsx\")\n",
    "df[\"label\"] = (df[\"Carbon intensity gCO₂eq/kWh (direct)\"] < 200).astype(int)\n",
    "X = df[[\"hour\", \"weekday\", \"month\"]]  # Assume these features exist\n",
    "y = df[\"label\"]\n",
    "X_train, X_test, y_train, y_test = train_test_split(X, y, test_size=0.2)\n",
    "\n",
    "clf = RandomForestClassifier(n_estimators=100)\n",
    "clf.fit(X_train, y_train)\n",
    "pickle.dump(clf, open(\"carbon_best_days_model.pkl\", \"wb\"))\n",
    "        "
   ]
  }
 ],
 "metadata": {},
 "nbformat": 4,
 "nbformat_minor": 5
}
