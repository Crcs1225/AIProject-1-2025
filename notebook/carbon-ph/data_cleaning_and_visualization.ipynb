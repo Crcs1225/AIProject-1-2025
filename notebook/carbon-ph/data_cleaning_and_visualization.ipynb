{
 "cells": [
  {
   "cell_type": "markdown",
   "id": "dc7a8006",
   "metadata": {},
   "source": [
    "# Data Cleaning and Visualization"
   ]
  },
  {
   "cell_type": "code",
   "execution_count": null,
   "id": "80fe229f",
   "metadata": {},
   "outputs": [],
   "source": [
    "\n",
    "import pandas as pd\n",
    "import matplotlib.pyplot as plt\n",
    "\n",
    "df = pd.read_excel(\"combined_carbon_data.xlsx\")\n",
    "df = df.dropna(subset=[\"Carbon intensity gCO₂eq/kWh (direct)\"])\n",
    "df[\"Datetime (UTC)\"] = pd.to_datetime(df[\"Datetime (UTC)\"])\n",
    "\n",
    "plt.hist(df[\"Carbon intensity gCO₂eq/kWh (direct)\"], bins=50)\n",
    "plt.title(\"Distribution of Carbon Intensity\")\n",
    "plt.xlabel(\"gCO₂eq/kWh\")\n",
    "plt.ylabel(\"Frequency\")\n",
    "plt.show()\n",
    "        "
   ]
  }
 ],
 "metadata": {},
 "nbformat": 4,
 "nbformat_minor": 5
}
