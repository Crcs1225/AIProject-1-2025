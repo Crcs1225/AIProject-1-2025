{
 "cells": [
  {
   "cell_type": "markdown",
   "id": "75f20cb0",
   "metadata": {},
   "source": [
    "# API Integration Test"
   ]
  },
  {
   "cell_type": "code",
   "execution_count": null,
   "id": "b5a668cd",
   "metadata": {},
   "outputs": [],
   "source": [
    "\n",
    "import requests\n",
    "\n",
    "response = requests.get(\"http://localhost:8000/forecast\")\n",
    "print(response.json())\n",
    "\n",
    "response = requests.get(\"http://localhost:8000/carbon-trend\")\n",
    "print(response.json())\n",
    "        "
   ]
  }
 ],
 "metadata": {},
 "nbformat": 4,
 "nbformat_minor": 5
}
