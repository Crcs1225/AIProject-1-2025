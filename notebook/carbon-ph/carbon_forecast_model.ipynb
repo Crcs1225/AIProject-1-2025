{
 "cells": [
  {
   "cell_type": "markdown",
   "id": "ced4529a",
   "metadata": {},
   "source": [
    "# Carbon Forecast Model"
   ]
  },
  {
   "cell_type": "code",
   "execution_count": null,
   "id": "41d66351",
   "metadata": {},
   "outputs": [],
   "source": [
    "\n",
    "import pandas as pd\n",
    "from sklearn.ensemble import RandomForestRegressor\n",
    "from sklearn.model_selection import train_test_split\n",
    "import pickle\n",
    "\n",
    "df = pd.read_excel(\"combined_carbon_data.xlsx\")\n",
    "df = df.dropna(subset=[\"Carbon intensity gCO₂eq/kWh (direct)\"])\n",
    "X = df[[\"hour\", \"weekday\", \"month\"]]  # Assume these features exist\n",
    "y = df[\"Carbon intensity gCO₂eq/kWh (direct)\"]\n",
    "X_train, X_test, y_train, y_test = train_test_split(X, y, test_size=0.2)\n",
    "\n",
    "model = RandomForestRegressor(n_estimators=100)\n",
    "model.fit(X_train, y_train)\n",
    "pickle.dump(model, open(\"carbon_forecast_model.pkl\", \"wb\"))\n",
    "        "
   ]
  }
 ],
 "metadata": {},
 "nbformat": 4,
 "nbformat_minor": 5
}
