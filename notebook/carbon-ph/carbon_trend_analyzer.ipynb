{
 "cells": [
  {
   "cell_type": "markdown",
   "id": "2d999fb7",
   "metadata": {},
   "source": [
    "# Carbon Trend Analyzer"
   ]
  },
  {
   "cell_type": "code",
   "execution_count": null,
   "id": "e615774d",
   "metadata": {},
   "outputs": [],
   "source": [
    "\n",
    "import pandas as pd\n",
    "import matplotlib.pyplot as plt\n",
    "from scipy.stats import linregress\n",
    "\n",
    "df = pd.read_excel(\"combined_carbon_data.xlsx\")\n",
    "df[\"Datetime (UTC)\"] = pd.to_datetime(df[\"Datetime (UTC)\"])\n",
    "df = df.dropna(subset=[\"Carbon intensity gCO₂eq/kWh (direct)\"])\n",
    "df[\"rolling\"] = df[\"Carbon intensity gCO₂eq/kWh (direct)\"].rolling(window=30).mean()\n",
    "\n",
    "x = df[\"Datetime (UTC)\"].dropna().map(pd.Timestamp.toordinal)\n",
    "y = df[\"rolling\"].dropna()\n",
    "slope, intercept, *_ = linregress(x, y)\n",
    "\n",
    "plt.figure(figsize=(10, 5))\n",
    "plt.plot(df[\"Datetime (UTC)\"], df[\"Carbon intensity gCO₂eq/kWh (direct)\"], label=\"Raw\")\n",
    "plt.plot(df[\"Datetime (UTC)\"], df[\"rolling\"], label=\"Rolling Avg\", color=\"red\")\n",
    "plt.title(\"Carbon Intensity Trend\")\n",
    "plt.legend()\n",
    "plt.savefig(\"carbon_trend_plot.png\")\n",
    "        "
   ]
  }
 ],
 "metadata": {},
 "nbformat": 4,
 "nbformat_minor": 5
}
